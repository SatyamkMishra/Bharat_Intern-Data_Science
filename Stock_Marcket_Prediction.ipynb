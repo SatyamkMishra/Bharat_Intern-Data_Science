{
  "nbformat": 4,
  "nbformat_minor": 0,
  "metadata": {
    "colab": {
      "provenance": []
    },
    "kernelspec": {
      "name": "python3",
      "display_name": "Python 3"
    },
    "language_info": {
      "name": "python"
    }
  },
  "cells": [
    {
      "cell_type": "markdown",
      "source": [
        "# **TASK-1**"
      ],
      "metadata": {
        "id": "teP1oEk630gS"
      }
    },
    {
      "cell_type": "markdown",
      "source": [
        "# **Take Stock Price of Any Company you want and predict its pricing using LSTM.**"
      ],
      "metadata": {
        "id": "K9KAlvAG4LMO"
      }
    },
    {
      "cell_type": "markdown",
      "source": [
        "Here i have taken the Stock price dataset of TataGlobal."
      ],
      "metadata": {
        "id": "7hBBCrWi4mH6"
      }
    },
    {
      "cell_type": "markdown",
      "source": [
        "Importing Libraries"
      ],
      "metadata": {
        "id": "E7EMBfAN5A3M"
      }
    },
    {
      "cell_type": "code",
      "execution_count": null,
      "metadata": {
        "id": "YsKxdudKD_Dp"
      },
      "outputs": [],
      "source": [
        "import numpy as np\n",
        "import pandas as pd\n",
        "import numpy\n",
        "import matplotlib.pyplot as plt"
      ]
    },
    {
      "cell_type": "code",
      "source": [
        "from google.colab import drive\n",
        "\n",
        "drive.mount('/content/gdrive')"
      ],
      "metadata": {
        "colab": {
          "base_uri": "https://localhost:8080/"
        },
        "id": "7z6L-_vVHXLj",
        "outputId": "4e206540-87aa-4b44-cd3e-70c11f61bb41"
      },
      "execution_count": null,
      "outputs": [
        {
          "output_type": "stream",
          "name": "stdout",
          "text": [
            "Mounted at /content/gdrive\n"
          ]
        }
      ]
    },
    {
      "cell_type": "code",
      "source": [
        "cd /content/gdrive/My Drive/Colab Notebooks/ML PRACTICAL/internship"
      ],
      "metadata": {
        "colab": {
          "base_uri": "https://localhost:8080/"
        },
        "id": "KdH4pIpgHmsK",
        "outputId": "1c6a15c9-14b5-4b04-ec69-37030624d8b4"
      },
      "execution_count": null,
      "outputs": [
        {
          "output_type": "stream",
          "name": "stdout",
          "text": [
            "/content/gdrive/My Drive/Colab Notebooks/ML PRACTICAL/internship\n"
          ]
        }
      ]
    },
    {
      "cell_type": "code",
      "source": [
        "ls"
      ],
      "metadata": {
        "colab": {
          "base_uri": "https://localhost:8080/"
        },
        "id": "d5EX9kDAIcmR",
        "outputId": "5f2ac70b-6d7f-46bb-ba1f-c3e852f67ddc"
      },
      "execution_count": null,
      "outputs": [
        {
          "output_type": "stream",
          "name": "stdout",
          "text": [
            "Iris.csv  TATAGLOBAL.csv\n"
          ]
        }
      ]
    },
    {
      "cell_type": "markdown",
      "source": [
        "importing dataset\n"
      ],
      "metadata": {
        "id": "bis7usPP5VUQ"
      }
    },
    {
      "cell_type": "code",
      "source": [
        "df=pd.read_csv(\"TATAGLOBAL.csv\")"
      ],
      "metadata": {
        "id": "bvDzmdi5Idz5"
      },
      "execution_count": null,
      "outputs": []
    },
    {
      "cell_type": "code",
      "source": [
        "df.head()"
      ],
      "metadata": {
        "colab": {
          "base_uri": "https://localhost:8080/",
          "height": 206
        },
        "id": "gngvXidrIm9K",
        "outputId": "a51e0995-9d5e-4e8e-9178-718a39294385"
      },
      "execution_count": null,
      "outputs": [
        {
          "output_type": "execute_result",
          "data": {
            "text/plain": [
              "        Date    Open    High     Low    Last   Close  Total Trade Quantity  \\\n",
              "0  9/28/2018  234.05  235.95  230.20  233.50  233.75               3069914   \n",
              "1  9/27/2018  234.55  236.80  231.10  233.80  233.25               5082859   \n",
              "2  9/26/2018  240.00  240.00  232.50  235.00  234.25               2240909   \n",
              "3  9/25/2018  233.30  236.75  232.00  236.25  236.10               2349368   \n",
              "4  9/24/2018  233.55  239.20  230.75  234.00  233.30               3423509   \n",
              "\n",
              "   Turnover (Lacs)  \n",
              "0          7162.35  \n",
              "1         11859.95  \n",
              "2          5248.60  \n",
              "3          5503.90  \n",
              "4          7999.55  "
            ],
            "text/html": [
              "\n",
              "  <div id=\"df-ccbf38cf-5b36-4fed-a3fd-86180be2eb5f\">\n",
              "    <div class=\"colab-df-container\">\n",
              "      <div>\n",
              "<style scoped>\n",
              "    .dataframe tbody tr th:only-of-type {\n",
              "        vertical-align: middle;\n",
              "    }\n",
              "\n",
              "    .dataframe tbody tr th {\n",
              "        vertical-align: top;\n",
              "    }\n",
              "\n",
              "    .dataframe thead th {\n",
              "        text-align: right;\n",
              "    }\n",
              "</style>\n",
              "<table border=\"1\" class=\"dataframe\">\n",
              "  <thead>\n",
              "    <tr style=\"text-align: right;\">\n",
              "      <th></th>\n",
              "      <th>Date</th>\n",
              "      <th>Open</th>\n",
              "      <th>High</th>\n",
              "      <th>Low</th>\n",
              "      <th>Last</th>\n",
              "      <th>Close</th>\n",
              "      <th>Total Trade Quantity</th>\n",
              "      <th>Turnover (Lacs)</th>\n",
              "    </tr>\n",
              "  </thead>\n",
              "  <tbody>\n",
              "    <tr>\n",
              "      <th>0</th>\n",
              "      <td>9/28/2018</td>\n",
              "      <td>234.05</td>\n",
              "      <td>235.95</td>\n",
              "      <td>230.20</td>\n",
              "      <td>233.50</td>\n",
              "      <td>233.75</td>\n",
              "      <td>3069914</td>\n",
              "      <td>7162.35</td>\n",
              "    </tr>\n",
              "    <tr>\n",
              "      <th>1</th>\n",
              "      <td>9/27/2018</td>\n",
              "      <td>234.55</td>\n",
              "      <td>236.80</td>\n",
              "      <td>231.10</td>\n",
              "      <td>233.80</td>\n",
              "      <td>233.25</td>\n",
              "      <td>5082859</td>\n",
              "      <td>11859.95</td>\n",
              "    </tr>\n",
              "    <tr>\n",
              "      <th>2</th>\n",
              "      <td>9/26/2018</td>\n",
              "      <td>240.00</td>\n",
              "      <td>240.00</td>\n",
              "      <td>232.50</td>\n",
              "      <td>235.00</td>\n",
              "      <td>234.25</td>\n",
              "      <td>2240909</td>\n",
              "      <td>5248.60</td>\n",
              "    </tr>\n",
              "    <tr>\n",
              "      <th>3</th>\n",
              "      <td>9/25/2018</td>\n",
              "      <td>233.30</td>\n",
              "      <td>236.75</td>\n",
              "      <td>232.00</td>\n",
              "      <td>236.25</td>\n",
              "      <td>236.10</td>\n",
              "      <td>2349368</td>\n",
              "      <td>5503.90</td>\n",
              "    </tr>\n",
              "    <tr>\n",
              "      <th>4</th>\n",
              "      <td>9/24/2018</td>\n",
              "      <td>233.55</td>\n",
              "      <td>239.20</td>\n",
              "      <td>230.75</td>\n",
              "      <td>234.00</td>\n",
              "      <td>233.30</td>\n",
              "      <td>3423509</td>\n",
              "      <td>7999.55</td>\n",
              "    </tr>\n",
              "  </tbody>\n",
              "</table>\n",
              "</div>\n",
              "      <button class=\"colab-df-convert\" onclick=\"convertToInteractive('df-ccbf38cf-5b36-4fed-a3fd-86180be2eb5f')\"\n",
              "              title=\"Convert this dataframe to an interactive table.\"\n",
              "              style=\"display:none;\">\n",
              "        \n",
              "  <svg xmlns=\"http://www.w3.org/2000/svg\" height=\"24px\"viewBox=\"0 0 24 24\"\n",
              "       width=\"24px\">\n",
              "    <path d=\"M0 0h24v24H0V0z\" fill=\"none\"/>\n",
              "    <path d=\"M18.56 5.44l.94 2.06.94-2.06 2.06-.94-2.06-.94-.94-2.06-.94 2.06-2.06.94zm-11 1L8.5 8.5l.94-2.06 2.06-.94-2.06-.94L8.5 2.5l-.94 2.06-2.06.94zm10 10l.94 2.06.94-2.06 2.06-.94-2.06-.94-.94-2.06-.94 2.06-2.06.94z\"/><path d=\"M17.41 7.96l-1.37-1.37c-.4-.4-.92-.59-1.43-.59-.52 0-1.04.2-1.43.59L10.3 9.45l-7.72 7.72c-.78.78-.78 2.05 0 2.83L4 21.41c.39.39.9.59 1.41.59.51 0 1.02-.2 1.41-.59l7.78-7.78 2.81-2.81c.8-.78.8-2.07 0-2.86zM5.41 20L4 18.59l7.72-7.72 1.47 1.35L5.41 20z\"/>\n",
              "  </svg>\n",
              "      </button>\n",
              "      \n",
              "  <style>\n",
              "    .colab-df-container {\n",
              "      display:flex;\n",
              "      flex-wrap:wrap;\n",
              "      gap: 12px;\n",
              "    }\n",
              "\n",
              "    .colab-df-convert {\n",
              "      background-color: #E8F0FE;\n",
              "      border: none;\n",
              "      border-radius: 50%;\n",
              "      cursor: pointer;\n",
              "      display: none;\n",
              "      fill: #1967D2;\n",
              "      height: 32px;\n",
              "      padding: 0 0 0 0;\n",
              "      width: 32px;\n",
              "    }\n",
              "\n",
              "    .colab-df-convert:hover {\n",
              "      background-color: #E2EBFA;\n",
              "      box-shadow: 0px 1px 2px rgba(60, 64, 67, 0.3), 0px 1px 3px 1px rgba(60, 64, 67, 0.15);\n",
              "      fill: #174EA6;\n",
              "    }\n",
              "\n",
              "    [theme=dark] .colab-df-convert {\n",
              "      background-color: #3B4455;\n",
              "      fill: #D2E3FC;\n",
              "    }\n",
              "\n",
              "    [theme=dark] .colab-df-convert:hover {\n",
              "      background-color: #434B5C;\n",
              "      box-shadow: 0px 1px 3px 1px rgba(0, 0, 0, 0.15);\n",
              "      filter: drop-shadow(0px 1px 2px rgba(0, 0, 0, 0.3));\n",
              "      fill: #FFFFFF;\n",
              "    }\n",
              "  </style>\n",
              "\n",
              "      <script>\n",
              "        const buttonEl =\n",
              "          document.querySelector('#df-ccbf38cf-5b36-4fed-a3fd-86180be2eb5f button.colab-df-convert');\n",
              "        buttonEl.style.display =\n",
              "          google.colab.kernel.accessAllowed ? 'block' : 'none';\n",
              "\n",
              "        async function convertToInteractive(key) {\n",
              "          const element = document.querySelector('#df-ccbf38cf-5b36-4fed-a3fd-86180be2eb5f');\n",
              "          const dataTable =\n",
              "            await google.colab.kernel.invokeFunction('convertToInteractive',\n",
              "                                                     [key], {});\n",
              "          if (!dataTable) return;\n",
              "\n",
              "          const docLinkHtml = 'Like what you see? Visit the ' +\n",
              "            '<a target=\"_blank\" href=https://colab.research.google.com/notebooks/data_table.ipynb>data table notebook</a>'\n",
              "            + ' to learn more about interactive tables.';\n",
              "          element.innerHTML = '';\n",
              "          dataTable['output_type'] = 'display_data';\n",
              "          await google.colab.output.renderOutput(dataTable, element);\n",
              "          const docLink = document.createElement('div');\n",
              "          docLink.innerHTML = docLinkHtml;\n",
              "          element.appendChild(docLink);\n",
              "        }\n",
              "      </script>\n",
              "    </div>\n",
              "  </div>\n",
              "  "
            ]
          },
          "metadata": {},
          "execution_count": 6
        }
      ]
    },
    {
      "cell_type": "code",
      "source": [
        "df.info()"
      ],
      "metadata": {
        "colab": {
          "base_uri": "https://localhost:8080/"
        },
        "id": "H4lTNE4OKrNA",
        "outputId": "31bcade8-fd3d-4090-df90-a695de9c2c21"
      },
      "execution_count": null,
      "outputs": [
        {
          "output_type": "stream",
          "name": "stdout",
          "text": [
            "<class 'pandas.core.frame.DataFrame'>\n",
            "RangeIndex: 2035 entries, 0 to 2034\n",
            "Data columns (total 8 columns):\n",
            " #   Column                Non-Null Count  Dtype  \n",
            "---  ------                --------------  -----  \n",
            " 0   Date                  2035 non-null   object \n",
            " 1   Open                  2035 non-null   float64\n",
            " 2   High                  2035 non-null   float64\n",
            " 3   Low                   2035 non-null   float64\n",
            " 4   Last                  2035 non-null   float64\n",
            " 5   Close                 2035 non-null   float64\n",
            " 6   Total Trade Quantity  2035 non-null   int64  \n",
            " 7   Turnover (Lacs)       2035 non-null   float64\n",
            "dtypes: float64(6), int64(1), object(1)\n",
            "memory usage: 127.3+ KB\n"
          ]
        }
      ]
    },
    {
      "cell_type": "code",
      "source": [
        "df.describe()"
      ],
      "metadata": {
        "colab": {
          "base_uri": "https://localhost:8080/",
          "height": 300
        },
        "id": "6UARxOI6Kuqx",
        "outputId": "507944b5-769a-4445-f5c2-5b74d741bc32"
      },
      "execution_count": null,
      "outputs": [
        {
          "output_type": "execute_result",
          "data": {
            "text/plain": [
              "              Open         High          Low         Last       Close  \\\n",
              "count  2035.000000  2035.000000  2035.000000  2035.000000  2035.00000   \n",
              "mean    149.713735   151.992826   147.293931   149.474251   149.45027   \n",
              "std      48.664509    49.413109    47.931958    48.732570    48.71204   \n",
              "min      81.100000    82.800000    80.000000    81.000000    80.95000   \n",
              "25%     120.025000   122.100000   118.300000   120.075000   120.05000   \n",
              "50%     141.500000   143.400000   139.600000   141.100000   141.25000   \n",
              "75%     157.175000   159.400000   155.150000   156.925000   156.90000   \n",
              "max     327.700000   328.750000   321.650000   325.950000   325.75000   \n",
              "\n",
              "       Total Trade Quantity  Turnover (Lacs)  \n",
              "count          2.035000e+03      2035.000000  \n",
              "mean           2.335681e+06      3899.980565  \n",
              "std            2.091778e+06      4570.767877  \n",
              "min            3.961000e+04        37.040000  \n",
              "25%            1.146444e+06      1427.460000  \n",
              "50%            1.783456e+06      2512.030000  \n",
              "75%            2.813594e+06      4539.015000  \n",
              "max            2.919102e+07     55755.080000  "
            ],
            "text/html": [
              "\n",
              "  <div id=\"df-e9682bf6-7baf-41e0-9e72-123ad75f09f9\">\n",
              "    <div class=\"colab-df-container\">\n",
              "      <div>\n",
              "<style scoped>\n",
              "    .dataframe tbody tr th:only-of-type {\n",
              "        vertical-align: middle;\n",
              "    }\n",
              "\n",
              "    .dataframe tbody tr th {\n",
              "        vertical-align: top;\n",
              "    }\n",
              "\n",
              "    .dataframe thead th {\n",
              "        text-align: right;\n",
              "    }\n",
              "</style>\n",
              "<table border=\"1\" class=\"dataframe\">\n",
              "  <thead>\n",
              "    <tr style=\"text-align: right;\">\n",
              "      <th></th>\n",
              "      <th>Open</th>\n",
              "      <th>High</th>\n",
              "      <th>Low</th>\n",
              "      <th>Last</th>\n",
              "      <th>Close</th>\n",
              "      <th>Total Trade Quantity</th>\n",
              "      <th>Turnover (Lacs)</th>\n",
              "    </tr>\n",
              "  </thead>\n",
              "  <tbody>\n",
              "    <tr>\n",
              "      <th>count</th>\n",
              "      <td>2035.000000</td>\n",
              "      <td>2035.000000</td>\n",
              "      <td>2035.000000</td>\n",
              "      <td>2035.000000</td>\n",
              "      <td>2035.00000</td>\n",
              "      <td>2.035000e+03</td>\n",
              "      <td>2035.000000</td>\n",
              "    </tr>\n",
              "    <tr>\n",
              "      <th>mean</th>\n",
              "      <td>149.713735</td>\n",
              "      <td>151.992826</td>\n",
              "      <td>147.293931</td>\n",
              "      <td>149.474251</td>\n",
              "      <td>149.45027</td>\n",
              "      <td>2.335681e+06</td>\n",
              "      <td>3899.980565</td>\n",
              "    </tr>\n",
              "    <tr>\n",
              "      <th>std</th>\n",
              "      <td>48.664509</td>\n",
              "      <td>49.413109</td>\n",
              "      <td>47.931958</td>\n",
              "      <td>48.732570</td>\n",
              "      <td>48.71204</td>\n",
              "      <td>2.091778e+06</td>\n",
              "      <td>4570.767877</td>\n",
              "    </tr>\n",
              "    <tr>\n",
              "      <th>min</th>\n",
              "      <td>81.100000</td>\n",
              "      <td>82.800000</td>\n",
              "      <td>80.000000</td>\n",
              "      <td>81.000000</td>\n",
              "      <td>80.95000</td>\n",
              "      <td>3.961000e+04</td>\n",
              "      <td>37.040000</td>\n",
              "    </tr>\n",
              "    <tr>\n",
              "      <th>25%</th>\n",
              "      <td>120.025000</td>\n",
              "      <td>122.100000</td>\n",
              "      <td>118.300000</td>\n",
              "      <td>120.075000</td>\n",
              "      <td>120.05000</td>\n",
              "      <td>1.146444e+06</td>\n",
              "      <td>1427.460000</td>\n",
              "    </tr>\n",
              "    <tr>\n",
              "      <th>50%</th>\n",
              "      <td>141.500000</td>\n",
              "      <td>143.400000</td>\n",
              "      <td>139.600000</td>\n",
              "      <td>141.100000</td>\n",
              "      <td>141.25000</td>\n",
              "      <td>1.783456e+06</td>\n",
              "      <td>2512.030000</td>\n",
              "    </tr>\n",
              "    <tr>\n",
              "      <th>75%</th>\n",
              "      <td>157.175000</td>\n",
              "      <td>159.400000</td>\n",
              "      <td>155.150000</td>\n",
              "      <td>156.925000</td>\n",
              "      <td>156.90000</td>\n",
              "      <td>2.813594e+06</td>\n",
              "      <td>4539.015000</td>\n",
              "    </tr>\n",
              "    <tr>\n",
              "      <th>max</th>\n",
              "      <td>327.700000</td>\n",
              "      <td>328.750000</td>\n",
              "      <td>321.650000</td>\n",
              "      <td>325.950000</td>\n",
              "      <td>325.75000</td>\n",
              "      <td>2.919102e+07</td>\n",
              "      <td>55755.080000</td>\n",
              "    </tr>\n",
              "  </tbody>\n",
              "</table>\n",
              "</div>\n",
              "      <button class=\"colab-df-convert\" onclick=\"convertToInteractive('df-e9682bf6-7baf-41e0-9e72-123ad75f09f9')\"\n",
              "              title=\"Convert this dataframe to an interactive table.\"\n",
              "              style=\"display:none;\">\n",
              "        \n",
              "  <svg xmlns=\"http://www.w3.org/2000/svg\" height=\"24px\"viewBox=\"0 0 24 24\"\n",
              "       width=\"24px\">\n",
              "    <path d=\"M0 0h24v24H0V0z\" fill=\"none\"/>\n",
              "    <path d=\"M18.56 5.44l.94 2.06.94-2.06 2.06-.94-2.06-.94-.94-2.06-.94 2.06-2.06.94zm-11 1L8.5 8.5l.94-2.06 2.06-.94-2.06-.94L8.5 2.5l-.94 2.06-2.06.94zm10 10l.94 2.06.94-2.06 2.06-.94-2.06-.94-.94-2.06-.94 2.06-2.06.94z\"/><path d=\"M17.41 7.96l-1.37-1.37c-.4-.4-.92-.59-1.43-.59-.52 0-1.04.2-1.43.59L10.3 9.45l-7.72 7.72c-.78.78-.78 2.05 0 2.83L4 21.41c.39.39.9.59 1.41.59.51 0 1.02-.2 1.41-.59l7.78-7.78 2.81-2.81c.8-.78.8-2.07 0-2.86zM5.41 20L4 18.59l7.72-7.72 1.47 1.35L5.41 20z\"/>\n",
              "  </svg>\n",
              "      </button>\n",
              "      \n",
              "  <style>\n",
              "    .colab-df-container {\n",
              "      display:flex;\n",
              "      flex-wrap:wrap;\n",
              "      gap: 12px;\n",
              "    }\n",
              "\n",
              "    .colab-df-convert {\n",
              "      background-color: #E8F0FE;\n",
              "      border: none;\n",
              "      border-radius: 50%;\n",
              "      cursor: pointer;\n",
              "      display: none;\n",
              "      fill: #1967D2;\n",
              "      height: 32px;\n",
              "      padding: 0 0 0 0;\n",
              "      width: 32px;\n",
              "    }\n",
              "\n",
              "    .colab-df-convert:hover {\n",
              "      background-color: #E2EBFA;\n",
              "      box-shadow: 0px 1px 2px rgba(60, 64, 67, 0.3), 0px 1px 3px 1px rgba(60, 64, 67, 0.15);\n",
              "      fill: #174EA6;\n",
              "    }\n",
              "\n",
              "    [theme=dark] .colab-df-convert {\n",
              "      background-color: #3B4455;\n",
              "      fill: #D2E3FC;\n",
              "    }\n",
              "\n",
              "    [theme=dark] .colab-df-convert:hover {\n",
              "      background-color: #434B5C;\n",
              "      box-shadow: 0px 1px 3px 1px rgba(0, 0, 0, 0.15);\n",
              "      filter: drop-shadow(0px 1px 2px rgba(0, 0, 0, 0.3));\n",
              "      fill: #FFFFFF;\n",
              "    }\n",
              "  </style>\n",
              "\n",
              "      <script>\n",
              "        const buttonEl =\n",
              "          document.querySelector('#df-e9682bf6-7baf-41e0-9e72-123ad75f09f9 button.colab-df-convert');\n",
              "        buttonEl.style.display =\n",
              "          google.colab.kernel.accessAllowed ? 'block' : 'none';\n",
              "\n",
              "        async function convertToInteractive(key) {\n",
              "          const element = document.querySelector('#df-e9682bf6-7baf-41e0-9e72-123ad75f09f9');\n",
              "          const dataTable =\n",
              "            await google.colab.kernel.invokeFunction('convertToInteractive',\n",
              "                                                     [key], {});\n",
              "          if (!dataTable) return;\n",
              "\n",
              "          const docLinkHtml = 'Like what you see? Visit the ' +\n",
              "            '<a target=\"_blank\" href=https://colab.research.google.com/notebooks/data_table.ipynb>data table notebook</a>'\n",
              "            + ' to learn more about interactive tables.';\n",
              "          element.innerHTML = '';\n",
              "          dataTable['output_type'] = 'display_data';\n",
              "          await google.colab.output.renderOutput(dataTable, element);\n",
              "          const docLink = document.createElement('div');\n",
              "          docLink.innerHTML = docLinkHtml;\n",
              "          element.appendChild(docLink);\n",
              "        }\n",
              "      </script>\n",
              "    </div>\n",
              "  </div>\n",
              "  "
            ]
          },
          "metadata": {},
          "execution_count": 8
        }
      ]
    },
    {
      "cell_type": "code",
      "source": [
        "df.isnull()"
      ],
      "metadata": {
        "colab": {
          "base_uri": "https://localhost:8080/",
          "height": 424
        },
        "id": "4CT-kLVUK3vJ",
        "outputId": "d8538701-c2f0-4254-e1ea-b7e549eeea0d"
      },
      "execution_count": null,
      "outputs": [
        {
          "output_type": "execute_result",
          "data": {
            "text/plain": [
              "       Date   Open   High    Low   Last  Close  Total Trade Quantity  \\\n",
              "0     False  False  False  False  False  False                 False   \n",
              "1     False  False  False  False  False  False                 False   \n",
              "2     False  False  False  False  False  False                 False   \n",
              "3     False  False  False  False  False  False                 False   \n",
              "4     False  False  False  False  False  False                 False   \n",
              "...     ...    ...    ...    ...    ...    ...                   ...   \n",
              "2030  False  False  False  False  False  False                 False   \n",
              "2031  False  False  False  False  False  False                 False   \n",
              "2032  False  False  False  False  False  False                 False   \n",
              "2033  False  False  False  False  False  False                 False   \n",
              "2034  False  False  False  False  False  False                 False   \n",
              "\n",
              "      Turnover (Lacs)  \n",
              "0               False  \n",
              "1               False  \n",
              "2               False  \n",
              "3               False  \n",
              "4               False  \n",
              "...               ...  \n",
              "2030            False  \n",
              "2031            False  \n",
              "2032            False  \n",
              "2033            False  \n",
              "2034            False  \n",
              "\n",
              "[2035 rows x 8 columns]"
            ],
            "text/html": [
              "\n",
              "  <div id=\"df-5e30d52e-4929-4c97-8601-c35388bf1c39\">\n",
              "    <div class=\"colab-df-container\">\n",
              "      <div>\n",
              "<style scoped>\n",
              "    .dataframe tbody tr th:only-of-type {\n",
              "        vertical-align: middle;\n",
              "    }\n",
              "\n",
              "    .dataframe tbody tr th {\n",
              "        vertical-align: top;\n",
              "    }\n",
              "\n",
              "    .dataframe thead th {\n",
              "        text-align: right;\n",
              "    }\n",
              "</style>\n",
              "<table border=\"1\" class=\"dataframe\">\n",
              "  <thead>\n",
              "    <tr style=\"text-align: right;\">\n",
              "      <th></th>\n",
              "      <th>Date</th>\n",
              "      <th>Open</th>\n",
              "      <th>High</th>\n",
              "      <th>Low</th>\n",
              "      <th>Last</th>\n",
              "      <th>Close</th>\n",
              "      <th>Total Trade Quantity</th>\n",
              "      <th>Turnover (Lacs)</th>\n",
              "    </tr>\n",
              "  </thead>\n",
              "  <tbody>\n",
              "    <tr>\n",
              "      <th>0</th>\n",
              "      <td>False</td>\n",
              "      <td>False</td>\n",
              "      <td>False</td>\n",
              "      <td>False</td>\n",
              "      <td>False</td>\n",
              "      <td>False</td>\n",
              "      <td>False</td>\n",
              "      <td>False</td>\n",
              "    </tr>\n",
              "    <tr>\n",
              "      <th>1</th>\n",
              "      <td>False</td>\n",
              "      <td>False</td>\n",
              "      <td>False</td>\n",
              "      <td>False</td>\n",
              "      <td>False</td>\n",
              "      <td>False</td>\n",
              "      <td>False</td>\n",
              "      <td>False</td>\n",
              "    </tr>\n",
              "    <tr>\n",
              "      <th>2</th>\n",
              "      <td>False</td>\n",
              "      <td>False</td>\n",
              "      <td>False</td>\n",
              "      <td>False</td>\n",
              "      <td>False</td>\n",
              "      <td>False</td>\n",
              "      <td>False</td>\n",
              "      <td>False</td>\n",
              "    </tr>\n",
              "    <tr>\n",
              "      <th>3</th>\n",
              "      <td>False</td>\n",
              "      <td>False</td>\n",
              "      <td>False</td>\n",
              "      <td>False</td>\n",
              "      <td>False</td>\n",
              "      <td>False</td>\n",
              "      <td>False</td>\n",
              "      <td>False</td>\n",
              "    </tr>\n",
              "    <tr>\n",
              "      <th>4</th>\n",
              "      <td>False</td>\n",
              "      <td>False</td>\n",
              "      <td>False</td>\n",
              "      <td>False</td>\n",
              "      <td>False</td>\n",
              "      <td>False</td>\n",
              "      <td>False</td>\n",
              "      <td>False</td>\n",
              "    </tr>\n",
              "    <tr>\n",
              "      <th>...</th>\n",
              "      <td>...</td>\n",
              "      <td>...</td>\n",
              "      <td>...</td>\n",
              "      <td>...</td>\n",
              "      <td>...</td>\n",
              "      <td>...</td>\n",
              "      <td>...</td>\n",
              "      <td>...</td>\n",
              "    </tr>\n",
              "    <tr>\n",
              "      <th>2030</th>\n",
              "      <td>False</td>\n",
              "      <td>False</td>\n",
              "      <td>False</td>\n",
              "      <td>False</td>\n",
              "      <td>False</td>\n",
              "      <td>False</td>\n",
              "      <td>False</td>\n",
              "      <td>False</td>\n",
              "    </tr>\n",
              "    <tr>\n",
              "      <th>2031</th>\n",
              "      <td>False</td>\n",
              "      <td>False</td>\n",
              "      <td>False</td>\n",
              "      <td>False</td>\n",
              "      <td>False</td>\n",
              "      <td>False</td>\n",
              "      <td>False</td>\n",
              "      <td>False</td>\n",
              "    </tr>\n",
              "    <tr>\n",
              "      <th>2032</th>\n",
              "      <td>False</td>\n",
              "      <td>False</td>\n",
              "      <td>False</td>\n",
              "      <td>False</td>\n",
              "      <td>False</td>\n",
              "      <td>False</td>\n",
              "      <td>False</td>\n",
              "      <td>False</td>\n",
              "    </tr>\n",
              "    <tr>\n",
              "      <th>2033</th>\n",
              "      <td>False</td>\n",
              "      <td>False</td>\n",
              "      <td>False</td>\n",
              "      <td>False</td>\n",
              "      <td>False</td>\n",
              "      <td>False</td>\n",
              "      <td>False</td>\n",
              "      <td>False</td>\n",
              "    </tr>\n",
              "    <tr>\n",
              "      <th>2034</th>\n",
              "      <td>False</td>\n",
              "      <td>False</td>\n",
              "      <td>False</td>\n",
              "      <td>False</td>\n",
              "      <td>False</td>\n",
              "      <td>False</td>\n",
              "      <td>False</td>\n",
              "      <td>False</td>\n",
              "    </tr>\n",
              "  </tbody>\n",
              "</table>\n",
              "<p>2035 rows × 8 columns</p>\n",
              "</div>\n",
              "      <button class=\"colab-df-convert\" onclick=\"convertToInteractive('df-5e30d52e-4929-4c97-8601-c35388bf1c39')\"\n",
              "              title=\"Convert this dataframe to an interactive table.\"\n",
              "              style=\"display:none;\">\n",
              "        \n",
              "  <svg xmlns=\"http://www.w3.org/2000/svg\" height=\"24px\"viewBox=\"0 0 24 24\"\n",
              "       width=\"24px\">\n",
              "    <path d=\"M0 0h24v24H0V0z\" fill=\"none\"/>\n",
              "    <path d=\"M18.56 5.44l.94 2.06.94-2.06 2.06-.94-2.06-.94-.94-2.06-.94 2.06-2.06.94zm-11 1L8.5 8.5l.94-2.06 2.06-.94-2.06-.94L8.5 2.5l-.94 2.06-2.06.94zm10 10l.94 2.06.94-2.06 2.06-.94-2.06-.94-.94-2.06-.94 2.06-2.06.94z\"/><path d=\"M17.41 7.96l-1.37-1.37c-.4-.4-.92-.59-1.43-.59-.52 0-1.04.2-1.43.59L10.3 9.45l-7.72 7.72c-.78.78-.78 2.05 0 2.83L4 21.41c.39.39.9.59 1.41.59.51 0 1.02-.2 1.41-.59l7.78-7.78 2.81-2.81c.8-.78.8-2.07 0-2.86zM5.41 20L4 18.59l7.72-7.72 1.47 1.35L5.41 20z\"/>\n",
              "  </svg>\n",
              "      </button>\n",
              "      \n",
              "  <style>\n",
              "    .colab-df-container {\n",
              "      display:flex;\n",
              "      flex-wrap:wrap;\n",
              "      gap: 12px;\n",
              "    }\n",
              "\n",
              "    .colab-df-convert {\n",
              "      background-color: #E8F0FE;\n",
              "      border: none;\n",
              "      border-radius: 50%;\n",
              "      cursor: pointer;\n",
              "      display: none;\n",
              "      fill: #1967D2;\n",
              "      height: 32px;\n",
              "      padding: 0 0 0 0;\n",
              "      width: 32px;\n",
              "    }\n",
              "\n",
              "    .colab-df-convert:hover {\n",
              "      background-color: #E2EBFA;\n",
              "      box-shadow: 0px 1px 2px rgba(60, 64, 67, 0.3), 0px 1px 3px 1px rgba(60, 64, 67, 0.15);\n",
              "      fill: #174EA6;\n",
              "    }\n",
              "\n",
              "    [theme=dark] .colab-df-convert {\n",
              "      background-color: #3B4455;\n",
              "      fill: #D2E3FC;\n",
              "    }\n",
              "\n",
              "    [theme=dark] .colab-df-convert:hover {\n",
              "      background-color: #434B5C;\n",
              "      box-shadow: 0px 1px 3px 1px rgba(0, 0, 0, 0.15);\n",
              "      filter: drop-shadow(0px 1px 2px rgba(0, 0, 0, 0.3));\n",
              "      fill: #FFFFFF;\n",
              "    }\n",
              "  </style>\n",
              "\n",
              "      <script>\n",
              "        const buttonEl =\n",
              "          document.querySelector('#df-5e30d52e-4929-4c97-8601-c35388bf1c39 button.colab-df-convert');\n",
              "        buttonEl.style.display =\n",
              "          google.colab.kernel.accessAllowed ? 'block' : 'none';\n",
              "\n",
              "        async function convertToInteractive(key) {\n",
              "          const element = document.querySelector('#df-5e30d52e-4929-4c97-8601-c35388bf1c39');\n",
              "          const dataTable =\n",
              "            await google.colab.kernel.invokeFunction('convertToInteractive',\n",
              "                                                     [key], {});\n",
              "          if (!dataTable) return;\n",
              "\n",
              "          const docLinkHtml = 'Like what you see? Visit the ' +\n",
              "            '<a target=\"_blank\" href=https://colab.research.google.com/notebooks/data_table.ipynb>data table notebook</a>'\n",
              "            + ' to learn more about interactive tables.';\n",
              "          element.innerHTML = '';\n",
              "          dataTable['output_type'] = 'display_data';\n",
              "          await google.colab.output.renderOutput(dataTable, element);\n",
              "          const docLink = document.createElement('div');\n",
              "          docLink.innerHTML = docLinkHtml;\n",
              "          element.appendChild(docLink);\n",
              "        }\n",
              "      </script>\n",
              "    </div>\n",
              "  </div>\n",
              "  "
            ]
          },
          "metadata": {},
          "execution_count": 9
        }
      ]
    },
    {
      "cell_type": "code",
      "source": [
        "df.isnull().sum()"
      ],
      "metadata": {
        "colab": {
          "base_uri": "https://localhost:8080/"
        },
        "id": "wBshG_y4K6LY",
        "outputId": "c69182fd-51c4-4b0d-9bd5-be44b2fad7df"
      },
      "execution_count": null,
      "outputs": [
        {
          "output_type": "execute_result",
          "data": {
            "text/plain": [
              "Date                    0\n",
              "Open                    0\n",
              "High                    0\n",
              "Low                     0\n",
              "Last                    0\n",
              "Close                   0\n",
              "Total Trade Quantity    0\n",
              "Turnover (Lacs)         0\n",
              "dtype: int64"
            ]
          },
          "metadata": {},
          "execution_count": 10
        }
      ]
    },
    {
      "cell_type": "markdown",
      "source": [
        "Data Visualization"
      ],
      "metadata": {
        "id": "4JwxmMpZKl6J"
      }
    },
    {
      "cell_type": "code",
      "source": [
        "plt.figure(figsize=(15, 8))\n",
        "plt.title('Stock Prices History')\n",
        "plt.plot(df['Close'])\n",
        "plt.xlabel('Date')\n",
        "plt.ylabel('Prices ($)')"
      ],
      "metadata": {
        "colab": {
          "base_uri": "https://localhost:8080/",
          "height": 530
        },
        "id": "0s2RMgU6L3po",
        "outputId": "d12b9940-ffd1-429c-fc57-bfa088b3b2b2"
      },
      "execution_count": null,
      "outputs": [
        {
          "output_type": "execute_result",
          "data": {
            "text/plain": [
              "Text(0, 0.5, 'Prices ($)')"
            ]
          },
          "metadata": {},
          "execution_count": 12
        },
        {
          "output_type": "display_data",
          "data": {
            "text/plain": [
              "<Figure size 1080x576 with 1 Axes>"
            ],
            "image/png": "[encoded data removed]"
          },
          "metadata": {
            "needs_background": "light"
          }
        }
      ]
    },
    {
      "cell_type": "code",
      "source": [
        "# Rolling mean\n",
        "df.rolling(7).mean().head(15)\n",
        "df['Close'].plot(figsize=(16,6))\n",
        "df.rolling(window=30).mean()['Open'].plot()"
      ],
      "metadata": {
        "colab": {
          "base_uri": "https://localhost:8080/",
          "height": 391
        },
        "id": "W23vMhxZMMIg",
        "outputId": "117cf7c4-f40d-4bf8-b887-b64cd24d83bd"
      },
      "execution_count": null,
      "outputs": [
        {
          "output_type": "execute_result",
          "data": {
            "text/plain": [
              "<matplotlib.axes._subplots.AxesSubplot at 0x7f71707803d0>"
            ]
          },
          "metadata": {},
          "execution_count": 13
        },
        {
          "output_type": "display_data",
          "data": {
            "text/plain": [
              "<Figure size 1152x432 with 1 Axes>"
            ],
            "image/png": "[encoded data removed]"
          },
          "metadata": {
            "needs_background": "light"
          }
        }
      ]
    },
    {
      "cell_type": "markdown",
      "source": [
        "Data Scaling"
      ],
      "metadata": {
        "id": "TheBC47sMk0z"
      }
    },
    {
      "cell_type": "code",
      "source": [
        "df1 = df.reset_index()['Close']"
      ],
      "metadata": {
        "id": "Ml7e9DSYOXkJ"
      },
      "execution_count": null,
      "outputs": []
    },
    {
      "cell_type": "code",
      "source": [
        "from sklearn.preprocessing import MinMaxScaler\n",
        "scaler = MinMaxScaler(feature_range = (0,1) )\n",
        "df1 = scaler.fit_transform(np.array(df1).reshape(-1,1))\n",
        "df1"
      ],
      "metadata": {
        "colab": {
          "base_uri": "https://localhost:8080/"
        },
        "id": "gOgOfZyIMYph",
        "outputId": "5220f96d-b28a-4dd8-e37c-177076ffb961"
      },
      "execution_count": null,
      "outputs": [
        {
          "output_type": "execute_result",
          "data": {
            "text/plain": [
              "array([[0.62418301],\n",
              "       [0.62214052],\n",
              "       [0.62622549],\n",
              "       ...,\n",
              "       [0.1621732 ],\n",
              "       [0.16319444],\n",
              "       [0.16584967]])"
            ]
          },
          "metadata": {},
          "execution_count": 17
        }
      ]
    },
    {
      "cell_type": "markdown",
      "source": [
        "Data Preprocessing"
      ],
      "metadata": {
        "id": "FatftsDcPpyZ"
      }
    },
    {
      "cell_type": "code",
      "source": [
        "train_size = int(len(df1)*0.75)\n",
        "test_size = len(df1) - train_size\n",
        "train_size, test_size"
      ],
      "metadata": {
        "colab": {
          "base_uri": "https://localhost:8080/"
        },
        "id": "t5NfJMlNPrhJ",
        "outputId": "861a1286-3b60-4648-d383-de7461f58492"
      },
      "execution_count": null,
      "outputs": [
        {
          "output_type": "execute_result",
          "data": {
            "text/plain": [
              "(1526, 509)"
            ]
          },
          "metadata": {},
          "execution_count": 18
        }
      ]
    },
    {
      "cell_type": "code",
      "source": [
        "train_data, test_data = df1[0:train_size: ], df1[train_size:len(df1), :1]"
      ],
      "metadata": {
        "id": "MDp_6FWhQz65"
      },
      "execution_count": null,
      "outputs": []
    },
    {
      "cell_type": "code",
      "source": [
        "def create_dataset(dataset, time_step = 1):\n",
        "    data_x, data_y = [], []\n",
        "    for i in range(len(dataset) - time_step - 1):\n",
        "        a = dataset[i:(i+time_step),0]\n",
        "        data_x.append(a)\n",
        "        data_y.append(dataset[i+time_step,0])\n",
        "    return numpy.array(data_x), numpy.array(data_y)"
      ],
      "metadata": {
        "id": "ZG337FILRhYR"
      },
      "execution_count": null,
      "outputs": []
    },
    {
      "cell_type": "code",
      "source": [
        "time_step = 100\n",
        "x_train, y_train = create_dataset(train_data, time_step)\n",
        "x_test, y_test = create_dataset(test_data, time_step)"
      ],
      "metadata": {
        "id": "GZ2utZnSSXWp"
      },
      "execution_count": null,
      "outputs": []
    },
    {
      "cell_type": "code",
      "source": [
        "x_train"
      ],
      "metadata": {
        "colab": {
          "base_uri": "https://localhost:8080/"
        },
        "id": "-9toT8gWTHYk",
        "outputId": "29a97a0a-da3e-43c0-dc35-1685c047ad39"
      },
      "execution_count": null,
      "outputs": [
        {
          "output_type": "execute_result",
          "data": {
            "text/plain": [
              "array([[0.62418301, 0.62214052, 0.62622549, ..., 0.83455882, 0.86213235,\n",
              "        0.85273693],\n",
              "       [0.62214052, 0.62622549, 0.63378268, ..., 0.86213235, 0.85273693,\n",
              "        0.87111928],\n",
              "       [0.62622549, 0.63378268, 0.62234477, ..., 0.85273693, 0.87111928,\n",
              "        0.84497549],\n",
              "       ...,\n",
              "       [0.32271242, 0.3247549 , 0.32148693, ..., 0.1997549 , 0.2001634 ,\n",
              "        0.20506536],\n",
              "       [0.3247549 , 0.32148693, 0.32352941, ..., 0.2001634 , 0.20506536,\n",
              "        0.2005719 ],\n",
              "       [0.32148693, 0.32352941, 0.3255719 , ..., 0.20506536, 0.2005719 ,\n",
              "        0.18831699]])"
            ]
          },
          "metadata": {},
          "execution_count": 24
        }
      ]
    },
    {
      "cell_type": "code",
      "source": [
        "x_test"
      ],
      "metadata": {
        "colab": {
          "base_uri": "https://localhost:8080/"
        },
        "id": "YPL9UGtgTKkT",
        "outputId": "5fbfafd4-e39e-47fb-98ad-f25f479608ae"
      },
      "execution_count": null,
      "outputs": [
        {
          "output_type": "execute_result",
          "data": {
            "text/plain": [
              "array([[0.1621732 , 0.15972222, 0.16278595, ..., 0.14644608, 0.15216503,\n",
              "        0.1435866 ],\n",
              "       [0.15972222, 0.16278595, 0.17340686, ..., 0.15216503, 0.1435866 ,\n",
              "        0.13419118],\n",
              "       [0.16278595, 0.17340686, 0.14174837, ..., 0.1435866 , 0.13419118,\n",
              "        0.1431781 ],\n",
              "       ...,\n",
              "       [0.13827614, 0.13541667, 0.13010621, ..., 0.14562908, 0.15236928,\n",
              "        0.15400327],\n",
              "       [0.13541667, 0.13010621, 0.12254902, ..., 0.15236928, 0.15400327,\n",
              "        0.14971405],\n",
              "       [0.13010621, 0.12254902, 0.12479575, ..., 0.15400327, 0.14971405,\n",
              "        0.1621732 ]])"
            ]
          },
          "metadata": {},
          "execution_count": 25
        }
      ]
    },
    {
      "cell_type": "code",
      "source": [
        "x_train = x_train.reshape(x_train.shape[0], x_train.shape[1], 1)\n",
        "x_test = x_test.reshape(x_test.shape[0], x_test.shape[1], 1)"
      ],
      "metadata": {
        "id": "E9xBE7EcTXIB"
      },
      "execution_count": null,
      "outputs": []
    },
    {
      "cell_type": "markdown",
      "source": [
        "stacked LSTM Model"
      ],
      "metadata": {
        "id": "dxCd2osoTlzc"
      }
    },
    {
      "cell_type": "code",
      "source": [
        "from tensorflow.keras.models import Sequential\n",
        "from tensorflow.keras.layers import Dense\n",
        "from tensorflow.keras.layers import LSTM\n",
        "import tensorflow as tf\n",
        "import math\n",
        "from sklearn.metrics import mean_squared_error\n",
        "\n",
        "from keras.layers import Dropout,  Bidirectional"
      ],
      "metadata": {
        "id": "08YGreaeToxz"
      },
      "execution_count": null,
      "outputs": []
    },
    {
      "cell_type": "code",
      "source": [
        "model = Sequential()\n",
        "model.add(LSTM(50, return_sequences = True, input_shape = (100,1)))\n",
        "model.add(LSTM(50, return_sequences = True))\n",
        "model.add(LSTM(50))\n",
        "model.add(Dense(1))\n",
        "model.compile(loss='mean_squared_error',optimizer='adam')"
      ],
      "metadata": {
        "id": "h7Ie_6uYT98h"
      },
      "execution_count": null,
      "outputs": []
    },
    {
      "cell_type": "code",
      "source": [
        "model.summary()"
      ],
      "metadata": {
        "colab": {
          "base_uri": "https://localhost:8080/"
        },
        "id": "tNBV32SfUw_S",
        "outputId": "d7e7589d-dab9-4204-c00f-845657b6d735"
      },
      "execution_count": null,
      "outputs": [
        {
          "output_type": "stream",
          "name": "stdout",
          "text": [
            "Model: \"sequential\"\n",
            "_________________________________________________________________\n",
            " Layer (type)                Output Shape              Param #   \n",
            "=================================================================\n",
            " lstm (LSTM)                 (None, 100, 50)           10400     \n",
            "                                                                 \n",
            " lstm_1 (LSTM)               (None, 100, 50)           20200     \n",
            "                                                                 \n",
            " lstm_2 (LSTM)               (None, 50)                20200     \n",
            "                                                                 \n",
            " dense (Dense)               (None, 1)                 51        \n",
            "                                                                 \n",
            "=================================================================\n",
            "Total params: 50,851\n",
            "Trainable params: 50,851\n",
            "Non-trainable params: 0\n",
            "_________________________________________________________________\n"
          ]
        }
      ]
    },
    {
      "cell_type": "code",
      "source": [
        "model.fit(x_train, y_train, epochs=80,validation_data=(x_test, y_test), verbose=1)"
      ],
      "metadata": {
        "colab": {
          "base_uri": "https://localhost:8080/"
        },
        "id": "9O1Uqw6vU3ta",
        "outputId": "fd366059-8472-4fad-9524-0db169805ad3"
      },
      "execution_count": null,
      "outputs": [
        {
          "output_type": "stream",
          "name": "stdout",
          "text": [
            "Epoch 1/80\n",
            "45/45 [==============================] - 14s 180ms/step - loss: 0.0109 - val_loss: 0.0011\n",
            "Epoch 2/80\n",
            "45/45 [==============================] - 7s 150ms/step - loss: 0.0016 - val_loss: 0.0011\n",
            "Epoch 3/80\n",
            "45/45 [==============================] - 7s 150ms/step - loss: 0.0014 - val_loss: 0.0011\n",
            "Epoch 4/80\n",
            "45/45 [==============================] - 8s 172ms/step - loss: 0.0012 - val_loss: 0.0012\n",
            "Epoch 5/80\n",
            "45/45 [==============================] - 7s 152ms/step - loss: 0.0011 - val_loss: 9.2997e-04\n",
            "Epoch 6/80\n",
            "45/45 [==============================] - 9s 208ms/step - loss: 0.0011 - val_loss: 6.2201e-04\n",
            "Epoch 7/80\n",
            "45/45 [==============================] - 8s 182ms/step - loss: 9.0904e-04 - val_loss: 8.4873e-04\n",
            "Epoch 8/80\n",
            "45/45 [==============================] - 7s 160ms/step - loss: 8.4015e-04 - val_loss: 0.0010\n",
            "Epoch 9/80\n",
            "45/45 [==============================] - 7s 160ms/step - loss: 7.3551e-04 - val_loss: 5.9892e-04\n",
            "Epoch 10/80\n",
            "45/45 [==============================] - 8s 168ms/step - loss: 7.6256e-04 - val_loss: 7.8394e-04\n",
            "Epoch 11/80\n",
            "45/45 [==============================] - 8s 187ms/step - loss: 7.3640e-04 - val_loss: 0.0010\n",
            "Epoch 12/80\n",
            "45/45 [==============================] - 9s 196ms/step - loss: 7.2936e-04 - val_loss: 7.8130e-04\n",
            "Epoch 13/80\n",
            "45/45 [==============================] - 9s 201ms/step - loss: 6.4258e-04 - val_loss: 0.0010\n",
            "Epoch 14/80\n",
            "45/45 [==============================] - 8s 170ms/step - loss: 5.9890e-04 - val_loss: 7.2239e-04\n",
            "Epoch 15/80\n",
            "45/45 [==============================] - 8s 181ms/step - loss: 5.8054e-04 - val_loss: 4.2684e-04\n",
            "Epoch 16/80\n",
            "45/45 [==============================] - 10s 219ms/step - loss: 5.7971e-04 - val_loss: 6.7691e-04\n",
            "Epoch 17/80\n",
            "45/45 [==============================] - 8s 171ms/step - loss: 5.0268e-04 - val_loss: 7.3554e-04\n",
            "Epoch 18/80\n",
            "45/45 [==============================] - 7s 148ms/step - loss: 5.4954e-04 - val_loss: 6.1200e-04\n",
            "Epoch 19/80\n",
            "45/45 [==============================] - 7s 156ms/step - loss: 5.5707e-04 - val_loss: 6.6354e-04\n",
            "Epoch 20/80\n",
            "45/45 [==============================] - 9s 207ms/step - loss: 5.0575e-04 - val_loss: 5.8429e-04\n",
            "Epoch 21/80\n",
            "45/45 [==============================] - 7s 148ms/step - loss: 4.9600e-04 - val_loss: 3.9702e-04\n",
            "Epoch 22/80\n",
            "45/45 [==============================] - 7s 149ms/step - loss: 5.5089e-04 - val_loss: 3.8528e-04\n",
            "Epoch 23/80\n",
            "45/45 [==============================] - 7s 148ms/step - loss: 4.6610e-04 - val_loss: 2.9517e-04\n",
            "Epoch 24/80\n",
            "45/45 [==============================] - 7s 150ms/step - loss: 4.3930e-04 - val_loss: 5.5470e-04\n",
            "Epoch 25/80\n",
            "45/45 [==============================] - 7s 165ms/step - loss: 3.9104e-04 - val_loss: 3.4404e-04\n",
            "Epoch 26/80\n",
            "45/45 [==============================] - 7s 150ms/step - loss: 4.0135e-04 - val_loss: 4.5936e-04\n",
            "Epoch 27/80\n",
            "45/45 [==============================] - 8s 182ms/step - loss: 4.1028e-04 - val_loss: 3.0425e-04\n",
            "Epoch 28/80\n",
            "45/45 [==============================] - 8s 167ms/step - loss: 3.3644e-04 - val_loss: 3.2274e-04\n",
            "Epoch 29/80\n",
            "45/45 [==============================] - 7s 148ms/step - loss: 3.3134e-04 - val_loss: 3.8038e-04\n",
            "Epoch 30/80\n",
            "45/45 [==============================] - 8s 177ms/step - loss: 3.3516e-04 - val_loss: 2.3327e-04\n",
            "Epoch 31/80\n",
            "45/45 [==============================] - 7s 151ms/step - loss: 2.7998e-04 - val_loss: 3.1074e-04\n",
            "Epoch 32/80\n",
            "45/45 [==============================] - 7s 151ms/step - loss: 2.7229e-04 - val_loss: 2.2188e-04\n",
            "Epoch 33/80\n",
            "45/45 [==============================] - 7s 151ms/step - loss: 2.9506e-04 - val_loss: 2.6898e-04\n",
            "Epoch 34/80\n",
            "45/45 [==============================] - 7s 149ms/step - loss: 2.8716e-04 - val_loss: 2.2356e-04\n",
            "Epoch 35/80\n",
            "45/45 [==============================] - 8s 184ms/step - loss: 2.7063e-04 - val_loss: 3.4724e-04\n",
            "Epoch 36/80\n",
            "45/45 [==============================] - 7s 155ms/step - loss: 3.5019e-04 - val_loss: 2.5092e-04\n",
            "Epoch 37/80\n",
            "45/45 [==============================] - 9s 192ms/step - loss: 2.7708e-04 - val_loss: 3.1318e-04\n",
            "Epoch 38/80\n",
            "45/45 [==============================] - 13s 291ms/step - loss: 2.6363e-04 - val_loss: 2.5842e-04\n",
            "Epoch 39/80\n",
            "45/45 [==============================] - 12s 271ms/step - loss: 2.5135e-04 - val_loss: 2.7202e-04\n",
            "Epoch 40/80\n",
            "45/45 [==============================] - 7s 152ms/step - loss: 2.7341e-04 - val_loss: 3.6503e-04\n",
            "Epoch 41/80\n",
            "45/45 [==============================] - 8s 183ms/step - loss: 3.1597e-04 - val_loss: 1.7413e-04\n",
            "Epoch 42/80\n",
            "45/45 [==============================] - 7s 156ms/step - loss: 2.4686e-04 - val_loss: 1.9719e-04\n",
            "Epoch 43/80\n",
            "45/45 [==============================] - 7s 159ms/step - loss: 2.4269e-04 - val_loss: 2.3206e-04\n",
            "Epoch 44/80\n",
            "45/45 [==============================] - 7s 147ms/step - loss: 2.4407e-04 - val_loss: 1.8529e-04\n",
            "Epoch 45/80\n",
            "45/45 [==============================] - 7s 149ms/step - loss: 2.5499e-04 - val_loss: 1.7025e-04\n",
            "Epoch 46/80\n",
            "45/45 [==============================] - 7s 148ms/step - loss: 2.3429e-04 - val_loss: 2.4214e-04\n",
            "Epoch 47/80\n",
            "45/45 [==============================] - 7s 149ms/step - loss: 2.2448e-04 - val_loss: 1.6565e-04\n",
            "Epoch 48/80\n",
            "45/45 [==============================] - 7s 148ms/step - loss: 2.4025e-04 - val_loss: 2.2179e-04\n",
            "Epoch 49/80\n",
            "45/45 [==============================] - 8s 189ms/step - loss: 2.3542e-04 - val_loss: 2.2468e-04\n",
            "Epoch 50/80\n",
            "45/45 [==============================] - 7s 156ms/step - loss: 2.2621e-04 - val_loss: 2.3425e-04\n",
            "Epoch 51/80\n",
            "45/45 [==============================] - 7s 151ms/step - loss: 2.3222e-04 - val_loss: 1.8299e-04\n",
            "Epoch 52/80\n",
            "45/45 [==============================] - 7s 159ms/step - loss: 2.2037e-04 - val_loss: 2.0517e-04\n",
            "Epoch 53/80\n",
            "45/45 [==============================] - 8s 182ms/step - loss: 2.1744e-04 - val_loss: 1.8344e-04\n",
            "Epoch 54/80\n",
            "45/45 [==============================] - 7s 151ms/step - loss: 2.5347e-04 - val_loss: 1.4075e-04\n",
            "Epoch 55/80\n",
            "45/45 [==============================] - 7s 152ms/step - loss: 2.5329e-04 - val_loss: 2.3158e-04\n",
            "Epoch 56/80\n",
            "45/45 [==============================] - 7s 152ms/step - loss: 2.5193e-04 - val_loss: 1.5278e-04\n",
            "Epoch 57/80\n",
            "45/45 [==============================] - 12s 278ms/step - loss: 2.4879e-04 - val_loss: 1.8228e-04\n",
            "Epoch 58/80\n",
            "45/45 [==============================] - 9s 194ms/step - loss: 2.7564e-04 - val_loss: 3.9159e-04\n",
            "Epoch 59/80\n",
            "45/45 [==============================] - 7s 150ms/step - loss: 2.8888e-04 - val_loss: 1.8767e-04\n",
            "Epoch 60/80\n",
            "45/45 [==============================] - 7s 149ms/step - loss: 2.1990e-04 - val_loss: 2.7460e-04\n",
            "Epoch 61/80\n",
            "45/45 [==============================] - 7s 148ms/step - loss: 2.4309e-04 - val_loss: 3.6233e-04\n",
            "Epoch 62/80\n",
            "45/45 [==============================] - 7s 150ms/step - loss: 2.1163e-04 - val_loss: 3.0671e-04\n",
            "Epoch 63/80\n",
            "45/45 [==============================] - 7s 149ms/step - loss: 1.9270e-04 - val_loss: 1.4109e-04\n",
            "Epoch 64/80\n",
            "45/45 [==============================] - 9s 190ms/step - loss: 1.9772e-04 - val_loss: 1.5854e-04\n",
            "Epoch 65/80\n",
            "45/45 [==============================] - 7s 150ms/step - loss: 2.0859e-04 - val_loss: 1.3588e-04\n",
            "Epoch 66/80\n",
            "45/45 [==============================] - 7s 149ms/step - loss: 1.9435e-04 - val_loss: 1.5145e-04\n",
            "Epoch 67/80\n",
            "45/45 [==============================] - 9s 191ms/step - loss: 2.0380e-04 - val_loss: 2.0669e-04\n",
            "Epoch 68/80\n",
            "45/45 [==============================] - 7s 150ms/step - loss: 2.6518e-04 - val_loss: 3.2953e-04\n",
            "Epoch 69/80\n",
            "45/45 [==============================] - 7s 149ms/step - loss: 2.4563e-04 - val_loss: 2.2977e-04\n",
            "Epoch 70/80\n",
            "45/45 [==============================] - 7s 152ms/step - loss: 2.2161e-04 - val_loss: 1.4742e-04\n",
            "Epoch 71/80\n",
            "45/45 [==============================] - 7s 151ms/step - loss: 2.1998e-04 - val_loss: 3.2565e-04\n",
            "Epoch 72/80\n",
            "45/45 [==============================] - 9s 192ms/step - loss: 2.5321e-04 - val_loss: 2.0516e-04\n",
            "Epoch 73/80\n",
            "45/45 [==============================] - 7s 153ms/step - loss: 2.0067e-04 - val_loss: 2.3353e-04\n",
            "Epoch 74/80\n",
            "45/45 [==============================] - 7s 150ms/step - loss: 2.1381e-04 - val_loss: 1.2581e-04\n",
            "Epoch 75/80\n",
            "45/45 [==============================] - 7s 153ms/step - loss: 2.1194e-04 - val_loss: 1.2993e-04\n",
            "Epoch 76/80\n",
            "45/45 [==============================] - 7s 149ms/step - loss: 2.0858e-04 - val_loss: 2.2031e-04\n",
            "Epoch 77/80\n",
            "45/45 [==============================] - 7s 149ms/step - loss: 1.9905e-04 - val_loss: 1.2716e-04\n",
            "Epoch 78/80\n",
            "45/45 [==============================] - 7s 149ms/step - loss: 2.1220e-04 - val_loss: 1.3804e-04\n",
            "Epoch 79/80\n",
            "45/45 [==============================] - 7s 149ms/step - loss: 2.1330e-04 - val_loss: 1.5467e-04\n",
            "Epoch 80/80\n",
            "45/45 [==============================] - 8s 188ms/step - loss: 2.3836e-04 - val_loss: 1.8863e-04\n"
          ]
        },
        {
          "output_type": "execute_result",
          "data": {
            "text/plain": [
              "<keras.callbacks.History at 0x7f7105fd8210>"
            ]
          },
          "metadata": {},
          "execution_count": 33
        }
      ]
    },
    {
      "cell_type": "markdown",
      "source": [
        "Prediction"
      ],
      "metadata": {
        "id": "X3g02o33Vfah"
      }
    },
    {
      "cell_type": "code",
      "source": [
        "test_predict = model.predict(x_test)\n",
        "train_predict = model.predict(x_train)"
      ],
      "metadata": {
        "colab": {
          "base_uri": "https://localhost:8080/"
        },
        "id": "qnLBIZMmVSw5",
        "outputId": "17996012-838f-4657-ca93-db6a031406d5"
      },
      "execution_count": null,
      "outputs": [
        {
          "output_type": "stream",
          "name": "stdout",
          "text": [
            "13/13 [==============================] - 0s 36ms/step\n",
            "45/45 [==============================] - 2s 37ms/step\n"
          ]
        }
      ]
    },
    {
      "cell_type": "code",
      "source": [
        "train_predict = scaler.inverse_transform(train_predict)\n",
        "test_predict = scaler.inverse_transform(test_predict)"
      ],
      "metadata": {
        "id": "hpXGWOVAZA2R"
      },
      "execution_count": null,
      "outputs": []
    },
    {
      "cell_type": "code",
      "source": [
        "back = 100\n",
        "trainPredictPlot = numpy.empty_like(df1)\n",
        "trainPredictPlot[:, :] = np.nan\n",
        "trainPredictPlot[back:len(train_predict)+back, :] = train_predict"
      ],
      "metadata": {
        "id": "7Rt-xVqTWmRa"
      },
      "execution_count": null,
      "outputs": []
    },
    {
      "cell_type": "code",
      "source": [
        "# Test predictions\n",
        "testPredictPlot = numpy.empty_like(df1)\n",
        "testPredictPlot[:, :] = numpy.nan\n",
        "testPredictPlot[len(train_predict)+(back*2)+1:len(df1)-1, :] = test_predict"
      ],
      "metadata": {
        "id": "lY__ejd2YCUi"
      },
      "execution_count": null,
      "outputs": []
    },
    {
      "cell_type": "code",
      "source": [
        "plt.subplots(figsize=(20,8))\n",
        "plt.plot(trainPredictPlot,color='orange')\n",
        "plt.plot(testPredictPlot,color='blue')\n",
        "plt.show()"
      ],
      "metadata": {
        "colab": {
          "base_uri": "https://localhost:8080/",
          "height": 483
        },
        "id": "w0q6M4HxYEVb",
        "outputId": "ac252269-a264-4752-d006-8ffcd6a59a1f"
      },
      "execution_count": null,
      "outputs": [
        {
          "output_type": "display_data",
          "data": {
            "text/plain": [
              "<Figure size 1440x576 with 1 Axes>"
            ],
            "image/png": "[encoded data removed]"
          },
          "metadata": {
            "needs_background": "light"
          }
        }
      ]
    },
    {
      "cell_type": "code",
      "source": [
        "# Baseline and predictions\n",
        "plt.subplots(figsize=(20,8))\n",
        "plt.plot(scaler.inverse_transform(df1), color = 'black')\n",
        "plt.plot(trainPredictPlot, color = 'orange')\n",
        "plt.plot(testPredictPlot, color = 'green')\n",
        "plt.show()"
      ],
      "metadata": {
        "colab": {
          "base_uri": "https://localhost:8080/",
          "height": 483
        },
        "id": "370RhkV7YKRi",
        "outputId": "726e46ed-5c95-408b-f924-2e9213b8393e"
      },
      "execution_count": null,
      "outputs": [
        {
          "output_type": "display_data",
          "data": {
            "text/plain": [
              "<Figure size 1440x576 with 1 Axes>"
            ],
            "image/png": "[encoded data removed]"
          },
          "metadata": {
            "needs_background": "light"
          }
        }
      ]
    }
  ]
}